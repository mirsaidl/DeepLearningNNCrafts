{
  "nbformat": 4,
  "nbformat_minor": 0,
  "metadata": {
    "colab": {
      "provenance": [],
      "gpuType": "T4",
      "authorship_tag": "ABX9TyOlMPyXi1Mvu24fxAk+ykcP",
      "include_colab_link": true
    },
    "kernelspec": {
      "name": "python3",
      "display_name": "Python 3"
    },
    "language_info": {
      "name": "python"
    },
    "accelerator": "GPU"
  },
  "cells": [
    {
      "cell_type": "markdown",
      "metadata": {
        "id": "view-in-github",
        "colab_type": "text"
      },
      "source": [
        "<a href=\"https://colab.research.google.com/github/mirsaidl/tensorflow_implementations/blob/main/siamese_network_mnist.ipynb\" target=\"_parent\"><img src=\"https://colab.research.google.com/assets/colab-badge.svg\" alt=\"Open In Colab\"/></a>"
      ]
    },
    {
      "cell_type": "code",
      "execution_count": 5,
      "metadata": {
        "id": "D4RQQVtnFP-J"
      },
      "outputs": [],
      "source": [
        "import tensorflow as tf\n",
        "from tensorflow.keras.layers import *\n",
        "from tensorflow.keras.models import *\n",
        "from tensorflow.keras.datasets import mnist\n",
        "import numpy as np\n",
        "import matplotlib.pyplot as plt"
      ]
    },
    {
      "cell_type": "code",
      "source": [
        "# Load data\n",
        "# Load the MNIST dataset\n",
        "(x_train, y_train), (x_test, y_test) = mnist.load_data()"
      ],
      "metadata": {
        "colab": {
          "base_uri": "https://localhost:8080/"
        },
        "id": "veq6_-z6Fc_O",
        "outputId": "31818d71-fe7d-4c8a-c2c8-0dd062d9e4f7"
      },
      "execution_count": 2,
      "outputs": [
        {
          "output_type": "stream",
          "name": "stdout",
          "text": [
            "Downloading data from https://storage.googleapis.com/tensorflow/tf-keras-datasets/mnist.npz\n",
            "11490434/11490434 [==============================] - 0s 0us/step\n"
          ]
        }
      ]
    },
    {
      "cell_type": "code",
      "source": [
        "# Randomly select 10 indices\n",
        "random_indices = np.random.randint(0, x_train.shape[0], size=10)\n",
        "\n",
        "# Plot the images\n",
        "plt.figure(figsize=(10, 5))\n",
        "for i, idx in enumerate(random_indices):\n",
        "    plt.subplot(2, 5, i + 1)\n",
        "    plt.imshow(x_train[idx], cmap='gray')\n",
        "    plt.title(f\"Label: {y_train[idx]}\")\n",
        "    plt.axis('off')\n",
        "\n",
        "plt.tight_layout()\n",
        "plt.show()"
      ],
      "metadata": {
        "id": "EzdrC_EkFjUk",
        "colab": {
          "base_uri": "https://localhost:8080/",
          "height": 473
        },
        "outputId": "9b873618-69b4-448f-fbc3-1bdc17beecc2"
      },
      "execution_count": 4,
      "outputs": [
        {
          "output_type": "display_data",
          "data": {
            "text/plain": [
              "<Figure size 1000x500 with 10 Axes>"
            ],
            "image/png": "[encoded data removed]"
          },
          "metadata": {}
        }
      ]
    },
    {
      "cell_type": "code",
      "source": [
        "A = Input((28,28), name='input_A')\n",
        "B = Input((28,28), name='input_B')"
      ],
      "metadata": {
        "id": "yrcnSnVpDu7o"
      },
      "execution_count": 6,
      "outputs": []
    },
    {
      "cell_type": "code",
      "source": [
        "def get_cnn_block(depth):\n",
        "  return Sequential([Conv2D(depth, 3, 1),\n",
        "                     BatchNormalization(),\n",
        "                     ReLU()])"
      ],
      "metadata": {
        "id": "bePoQo4iEpa5"
      },
      "execution_count": 7,
      "outputs": []
    },
    {
      "cell_type": "code",
      "source": [
        "DEPTH = 64\n",
        "cnn =  Sequential([\n",
        "    Reshape((28,28,1)),\n",
        "    get_cnn_block(DEPTH*2),\n",
        "    get_cnn_block(DEPTH*4),\n",
        "    get_cnn_block(DEPTH*8),\n",
        "    GlobalAveragePooling2D(),\n",
        "    Dense(64, activation='relu')\n",
        "])"
      ],
      "metadata": {
        "id": "3NFE8BiKFDMV"
      },
      "execution_count": 8,
      "outputs": []
    },
    {
      "cell_type": "code",
      "source": [
        "fv_A = cnn(A)\n",
        "fv_B = cnn(B)\n",
        "\n",
        "concat = Concatenate()([fv_A, fv_B])\n",
        "dense = Dense(64, activation='relu')(concat)\n",
        "output = Dense(1, activation='sigmoid')(dense)\n",
        "model = Model(inputs=[A,B], outputs=output)\n",
        "\n",
        "model.summary()"
      ],
      "metadata": {
        "colab": {
          "base_uri": "https://localhost:8080/"
        },
        "id": "u47QqX-rFeWe",
        "outputId": "2609d3ba-067b-4e30-8611-9b2271e6d47b"
      },
      "execution_count": 9,
      "outputs": [
        {
          "output_type": "stream",
          "name": "stdout",
          "text": [
            "Model: \"model\"\n",
            "__________________________________________________________________________________________________\n",
            " Layer (type)                Output Shape                 Param #   Connected to                  \n",
            "==================================================================================================\n",
            " input_A (InputLayer)        [(None, 28, 28)]             0         []                            \n",
            "                                                                                                  \n",
            " input_B (InputLayer)        [(None, 28, 28)]             0         []                            \n",
            "                                                                                                  \n",
            " sequential_3 (Sequential)   (None, 64)                   1513024   ['input_A[0][0]',             \n",
            "                                                                     'input_B[0][0]']             \n",
            "                                                                                                  \n",
            " concatenate (Concatenate)   (None, 128)                  0         ['sequential_3[0][0]',        \n",
            "                                                                     'sequential_3[1][0]']        \n",
            "                                                                                                  \n",
            " dense_1 (Dense)             (None, 64)                   8256      ['concatenate[0][0]']         \n",
            "                                                                                                  \n",
            " dense_2 (Dense)             (None, 1)                    65        ['dense_1[0][0]']             \n",
            "                                                                                                  \n",
            "==================================================================================================\n",
            "Total params: 1521345 (5.80 MB)\n",
            "Trainable params: 1519553 (5.80 MB)\n",
            "Non-trainable params: 1792 (7.00 KB)\n",
            "__________________________________________________________________________________________________\n"
          ]
        }
      ]
    },
    {
      "cell_type": "code",
      "source": [
        "random_indices = np.random.choice(x_train.shape[0], 300, replace=False)\n",
        "\n",
        "x_train_sample, y_train_sample = x_train[random_indices], y_train[random_indices]\n",
        "\n",
        "x_train_sample.shape, y_train_sample.shape"
      ],
      "metadata": {
        "colab": {
          "base_uri": "https://localhost:8080/"
        },
        "id": "rtd8jSe6Ggrj",
        "outputId": "b814ee40-6ab6-4722-f5e8-afd088b896db"
      },
      "execution_count": 11,
      "outputs": [
        {
          "output_type": "execute_result",
          "data": {
            "text/plain": [
              "((300, 28, 28), (300,))"
            ]
          },
          "metadata": {},
          "execution_count": 11
        }
      ]
    },
    {
      "cell_type": "code",
      "source": [
        "len(x_train_sample) ** 2"
      ],
      "metadata": {
        "colab": {
          "base_uri": "https://localhost:8080/"
        },
        "id": "p3xWk0OUHFDN",
        "outputId": "66f9af94-6c90-415d-9d1a-2e4bf86017b0"
      },
      "execution_count": 12,
      "outputs": [
        {
          "output_type": "execute_result",
          "data": {
            "text/plain": [
              "90000"
            ]
          },
          "metadata": {},
          "execution_count": 12
        }
      ]
    },
    {
      "cell_type": "code",
      "source": [
        "import itertools\n",
        "\n",
        "def make_paired_dataset(X, y):\n",
        "  X_pairs, y_pairs = [], []\n",
        "\n",
        "  tuples = [(x1, y1) for x1, y1 in zip(X, y)]\n",
        "\n",
        "  for t in itertools.product(tuples, tuples):\n",
        "    pair_A, pair_B = t\n",
        "    img_A, label_A = t[0]\n",
        "    img_B, label_B = t[1]\n",
        "\n",
        "    new_label = int(label_A == label_B)\n",
        "\n",
        "    X_pairs.append([img_A, img_B])\n",
        "    y_pairs.append(new_label)\n",
        "\n",
        "  X_pairs = np.array(X_pairs)\n",
        "  y_pairs = np.array(y_pairs)\n",
        "\n",
        "  return X_pairs, y_pairs"
      ],
      "metadata": {
        "id": "uTk2NLBWHcMY"
      },
      "execution_count": 14,
      "outputs": []
    },
    {
      "cell_type": "code",
      "source": [
        "make_paired_dataset(x_train_sample, y_train_sample)"
      ],
      "metadata": {
        "colab": {
          "base_uri": "https://localhost:8080/"
        },
        "id": "rYSTv5QfIV2M",
        "outputId": "625dcfae-f086-43bd-9883-1b1e9218eb65"
      },
      "execution_count": 16,
      "outputs": [
        {
          "output_type": "execute_result",
          "data": {
            "text/plain": [
              "(array([[[[0, 0, 0, ..., 0, 0, 0],\n",
              "          [0, 0, 0, ..., 0, 0, 0],\n",
              "          [0, 0, 0, ..., 0, 0, 0],\n",
              "          ...,\n",
              "          [0, 0, 0, ..., 0, 0, 0],\n",
              "          [0, 0, 0, ..., 0, 0, 0],\n",
              "          [0, 0, 0, ..., 0, 0, 0]],\n",
              " \n",
              "         [[0, 0, 0, ..., 0, 0, 0],\n",
              "          [0, 0, 0, ..., 0, 0, 0],\n",
              "          [0, 0, 0, ..., 0, 0, 0],\n",
              "          ...,\n",
              "          [0, 0, 0, ..., 0, 0, 0],\n",
              "          [0, 0, 0, ..., 0, 0, 0],\n",
              "          [0, 0, 0, ..., 0, 0, 0]]],\n",
              " \n",
              " \n",
              "        [[[0, 0, 0, ..., 0, 0, 0],\n",
              "          [0, 0, 0, ..., 0, 0, 0],\n",
              "          [0, 0, 0, ..., 0, 0, 0],\n",
              "          ...,\n",
              "          [0, 0, 0, ..., 0, 0, 0],\n",
              "          [0, 0, 0, ..., 0, 0, 0],\n",
              "          [0, 0, 0, ..., 0, 0, 0]],\n",
              " \n",
              "         [[0, 0, 0, ..., 0, 0, 0],\n",
              "          [0, 0, 0, ..., 0, 0, 0],\n",
              "          [0, 0, 0, ..., 0, 0, 0],\n",
              "          ...,\n",
              "          [0, 0, 0, ..., 0, 0, 0],\n",
              "          [0, 0, 0, ..., 0, 0, 0],\n",
              "          [0, 0, 0, ..., 0, 0, 0]]],\n",
              " \n",
              " \n",
              "        [[[0, 0, 0, ..., 0, 0, 0],\n",
              "          [0, 0, 0, ..., 0, 0, 0],\n",
              "          [0, 0, 0, ..., 0, 0, 0],\n",
              "          ...,\n",
              "          [0, 0, 0, ..., 0, 0, 0],\n",
              "          [0, 0, 0, ..., 0, 0, 0],\n",
              "          [0, 0, 0, ..., 0, 0, 0]],\n",
              " \n",
              "         [[0, 0, 0, ..., 0, 0, 0],\n",
              "          [0, 0, 0, ..., 0, 0, 0],\n",
              "          [0, 0, 0, ..., 0, 0, 0],\n",
              "          ...,\n",
              "          [0, 0, 0, ..., 0, 0, 0],\n",
              "          [0, 0, 0, ..., 0, 0, 0],\n",
              "          [0, 0, 0, ..., 0, 0, 0]]],\n",
              " \n",
              " \n",
              "        ...,\n",
              " \n",
              " \n",
              "        [[[0, 0, 0, ..., 0, 0, 0],\n",
              "          [0, 0, 0, ..., 0, 0, 0],\n",
              "          [0, 0, 0, ..., 0, 0, 0],\n",
              "          ...,\n",
              "          [0, 0, 0, ..., 0, 0, 0],\n",
              "          [0, 0, 0, ..., 0, 0, 0],\n",
              "          [0, 0, 0, ..., 0, 0, 0]],\n",
              " \n",
              "         [[0, 0, 0, ..., 0, 0, 0],\n",
              "          [0, 0, 0, ..., 0, 0, 0],\n",
              "          [0, 0, 0, ..., 0, 0, 0],\n",
              "          ...,\n",
              "          [0, 0, 0, ..., 0, 0, 0],\n",
              "          [0, 0, 0, ..., 0, 0, 0],\n",
              "          [0, 0, 0, ..., 0, 0, 0]]],\n",
              " \n",
              " \n",
              "        [[[0, 0, 0, ..., 0, 0, 0],\n",
              "          [0, 0, 0, ..., 0, 0, 0],\n",
              "          [0, 0, 0, ..., 0, 0, 0],\n",
              "          ...,\n",
              "          [0, 0, 0, ..., 0, 0, 0],\n",
              "          [0, 0, 0, ..., 0, 0, 0],\n",
              "          [0, 0, 0, ..., 0, 0, 0]],\n",
              " \n",
              "         [[0, 0, 0, ..., 0, 0, 0],\n",
              "          [0, 0, 0, ..., 0, 0, 0],\n",
              "          [0, 0, 0, ..., 0, 0, 0],\n",
              "          ...,\n",
              "          [0, 0, 0, ..., 0, 0, 0],\n",
              "          [0, 0, 0, ..., 0, 0, 0],\n",
              "          [0, 0, 0, ..., 0, 0, 0]]],\n",
              " \n",
              " \n",
              "        [[[0, 0, 0, ..., 0, 0, 0],\n",
              "          [0, 0, 0, ..., 0, 0, 0],\n",
              "          [0, 0, 0, ..., 0, 0, 0],\n",
              "          ...,\n",
              "          [0, 0, 0, ..., 0, 0, 0],\n",
              "          [0, 0, 0, ..., 0, 0, 0],\n",
              "          [0, 0, 0, ..., 0, 0, 0]],\n",
              " \n",
              "         [[0, 0, 0, ..., 0, 0, 0],\n",
              "          [0, 0, 0, ..., 0, 0, 0],\n",
              "          [0, 0, 0, ..., 0, 0, 0],\n",
              "          ...,\n",
              "          [0, 0, 0, ..., 0, 0, 0],\n",
              "          [0, 0, 0, ..., 0, 0, 0],\n",
              "          [0, 0, 0, ..., 0, 0, 0]]]], dtype=uint8),\n",
              " array([1, 0, 0, ..., 0, 1, 1]))"
            ]
          },
          "metadata": {},
          "execution_count": 16
        }
      ]
    },
    {
      "cell_type": "code",
      "source": [
        "x_train_pairs, y_train_pairs = make_paired_dataset(x_train_sample, y_train_sample)\n",
        "\n",
        "x_train_pairs.shape, y_train_pairs.shape"
      ],
      "metadata": {
        "colab": {
          "base_uri": "https://localhost:8080/"
        },
        "id": "MPM70XarIdHz",
        "outputId": "ff0660ac-1e93-4cb6-e8ac-eb267c96ceca"
      },
      "execution_count": 17,
      "outputs": [
        {
          "output_type": "execute_result",
          "data": {
            "text/plain": [
              "((90000, 2, 28, 28), (90000,))"
            ]
          },
          "metadata": {},
          "execution_count": 17
        }
      ]
    },
    {
      "cell_type": "code",
      "source": [
        "random_indices = np.random.choice(x_test.shape[0], 150, replace=False)\n",
        "\n",
        "x_test_sample, y_test_sample = x_test[random_indices], y_test[random_indices]\n",
        "\n",
        "x_test_sample.shape, y_test_sample.shape"
      ],
      "metadata": {
        "colab": {
          "base_uri": "https://localhost:8080/"
        },
        "id": "6K68Eo2AIoO8",
        "outputId": "a019e907-39d1-47ee-db0e-d1106af04c2b"
      },
      "execution_count": 18,
      "outputs": [
        {
          "output_type": "execute_result",
          "data": {
            "text/plain": [
              "((150, 28, 28), (150,))"
            ]
          },
          "metadata": {},
          "execution_count": 18
        }
      ]
    },
    {
      "cell_type": "code",
      "source": [
        "x_test_pairs, y_test_pairs = make_paired_dataset(x_test_sample, y_test_sample)\n",
        "\n",
        "x_test_pairs.shape, y_test_pairs.shape"
      ],
      "metadata": {
        "colab": {
          "base_uri": "https://localhost:8080/"
        },
        "id": "LhC5dBFHI7GA",
        "outputId": "8e714ec2-3b6f-4391-c3e4-543ed3f44334"
      },
      "execution_count": 19,
      "outputs": [
        {
          "output_type": "execute_result",
          "data": {
            "text/plain": [
              "((22500, 2, 28, 28), (22500,))"
            ]
          },
          "metadata": {},
          "execution_count": 19
        }
      ]
    },
    {
      "cell_type": "code",
      "source": [
        "model.compile(loss='binary_crossentropy',\n",
        "              optimizer=tf.keras.optimizers.Adam(learning_rate=0.001),\n",
        "              metrics=['accuracy'])"
      ],
      "metadata": {
        "id": "-MlYtWnMI_vh"
      },
      "execution_count": 20,
      "outputs": []
    },
    {
      "cell_type": "code",
      "source": [
        "from tensorflow.keras.callbacks import EarlyStopping\n",
        "\n",
        "es = EarlyStopping(patience=3)"
      ],
      "metadata": {
        "id": "bYLSx_eoJB1O"
      },
      "execution_count": 21,
      "outputs": []
    },
    {
      "cell_type": "code",
      "source": [
        "model.fit(x=[x_train_pairs[:, 0, :, :], x_train_pairs[:, 1, :, :]],\n",
        "          y=y_train_pairs,\n",
        "          validation_data=([x_test_pairs[:, 0, :, :],\n",
        "                            x_test_pairs[:, 1, :, :]],\n",
        "                           y_test_pairs),\n",
        "          epochs=10,\n",
        "          batch_size=32,\n",
        "          callbacks=[es])"
      ],
      "metadata": {
        "colab": {
          "base_uri": "https://localhost:8080/"
        },
        "id": "m0lKOFQ-Ja-J",
        "outputId": "f1dc9ab7-a775-4ad9-ee23-ce3b91486c4d"
      },
      "execution_count": 23,
      "outputs": [
        {
          "output_type": "stream",
          "name": "stdout",
          "text": [
            "Epoch 1/10\n",
            "2813/2813 [==============================] - 137s 49ms/step - loss: 0.1231 - accuracy: 0.9464 - val_loss: 0.3096 - val_accuracy: 0.8810\n",
            "Epoch 2/10\n",
            "2813/2813 [==============================] - 138s 49ms/step - loss: 0.0327 - accuracy: 0.9888 - val_loss: 0.3093 - val_accuracy: 0.9213\n",
            "Epoch 3/10\n",
            "2813/2813 [==============================] - 138s 49ms/step - loss: 0.0124 - accuracy: 0.9960 - val_loss: 0.3056 - val_accuracy: 0.9352\n",
            "Epoch 4/10\n",
            "2813/2813 [==============================] - 139s 49ms/step - loss: 0.0094 - accuracy: 0.9969 - val_loss: 0.3665 - val_accuracy: 0.9351\n",
            "Epoch 5/10\n",
            "2813/2813 [==============================] - 139s 49ms/step - loss: 0.0071 - accuracy: 0.9979 - val_loss: 0.2569 - val_accuracy: 0.9460\n",
            "Epoch 6/10\n",
            "2813/2813 [==============================] - 139s 49ms/step - loss: 0.0044 - accuracy: 0.9988 - val_loss: 0.2698 - val_accuracy: 0.9458\n",
            "Epoch 7/10\n",
            "2813/2813 [==============================] - 139s 49ms/step - loss: 0.0065 - accuracy: 0.9982 - val_loss: 0.2903 - val_accuracy: 0.9438\n",
            "Epoch 8/10\n",
            "2813/2813 [==============================] - 139s 49ms/step - loss: 0.0029 - accuracy: 0.9992 - val_loss: 0.2930 - val_accuracy: 0.9462\n"
          ]
        },
        {
          "output_type": "execute_result",
          "data": {
            "text/plain": [
              "<keras.src.callbacks.History at 0x7fd0244ac370>"
            ]
          },
          "metadata": {},
          "execution_count": 23
        }
      ]
    },
    {
      "cell_type": "code",
      "source": [
        "img_A, img_B = x_test[0], x_test[17]\n",
        "label_A, label_B = y_test[0], y_test[17]\n",
        "\n",
        "label_A, label_B"
      ],
      "metadata": {
        "colab": {
          "base_uri": "https://localhost:8080/"
        },
        "id": "3Nao0lEFJyOG",
        "outputId": "6205b6e1-a9f0-477a-fd3f-eb04d6b00ec4"
      },
      "execution_count": 25,
      "outputs": [
        {
          "output_type": "execute_result",
          "data": {
            "text/plain": [
              "(7, 7)"
            ]
          },
          "metadata": {},
          "execution_count": 25
        }
      ]
    },
    {
      "cell_type": "code",
      "source": [
        "plt.figure(dpi=28)\n",
        "plt.imshow(img_A, cmap='gray')\n",
        "plt.show()"
      ],
      "metadata": {
        "colab": {
          "base_uri": "https://localhost:8080/",
          "height": 132
        },
        "id": "U5ti7P5rOa0g",
        "outputId": "99b2b34d-7a31-4fea-e1ea-b46ae7afb74c"
      },
      "execution_count": 27,
      "outputs": [
        {
          "output_type": "display_data",
          "data": {
            "text/plain": [
              "<Figure size 179.2x134.4 with 1 Axes>"
            ],
            "image/png": "[encoded data removed]"
          },
          "metadata": {}
        }
      ]
    },
    {
      "cell_type": "code",
      "source": [
        "plt.figure(dpi=28)\n",
        "plt.imshow(img_B, cmap='gray')\n",
        "plt.show()"
      ],
      "metadata": {
        "colab": {
          "base_uri": "https://localhost:8080/",
          "height": 132
        },
        "id": "BLR-6cV5Ofca",
        "outputId": "9bd8cdcc-036a-46b4-9233-ee07a6c20122"
      },
      "execution_count": 29,
      "outputs": [
        {
          "output_type": "display_data",
          "data": {
            "text/plain": [
              "<Figure size 179.2x134.4 with 1 Axes>"
            ],
            "image/png": "[encoded data removed]"
          },
          "metadata": {}
        }
      ]
    },
    {
      "cell_type": "code",
      "source": [
        "model.predict([img_A.reshape((1, 28, 28)),\n",
        "               img_B.reshape((1, 28, 28))]) # 100% which is correct"
      ],
      "metadata": {
        "colab": {
          "base_uri": "https://localhost:8080/"
        },
        "id": "maA2hMRLO36K",
        "outputId": "8035d8ac-3a3a-4d98-8ae1-35e69a5d4f94"
      },
      "execution_count": 30,
      "outputs": [
        {
          "output_type": "stream",
          "name": "stdout",
          "text": [
            "1/1 [==============================] - 1s 1s/step\n"
          ]
        },
        {
          "output_type": "execute_result",
          "data": {
            "text/plain": [
              "array([[1.]], dtype=float32)"
            ]
          },
          "metadata": {},
          "execution_count": 30
        }
      ]
    },
    {
      "cell_type": "code",
      "source": [
        "# Let's compare different numbers\n",
        "img_A, img_B = x_test[5], x_test[15]\n",
        "label_A, label_B = y_test[5], y_test[15]\n",
        "\n",
        "label_A, label_B"
      ],
      "metadata": {
        "colab": {
          "base_uri": "https://localhost:8080/"
        },
        "id": "Wc0SAeeTO98W",
        "outputId": "7b9bb805-4cdf-414d-cf46-08b7b467a096"
      },
      "execution_count": 34,
      "outputs": [
        {
          "output_type": "execute_result",
          "data": {
            "text/plain": [
              "(1, 5)"
            ]
          },
          "metadata": {},
          "execution_count": 34
        }
      ]
    },
    {
      "cell_type": "code",
      "source": [
        "plt.figure(dpi=28)\n",
        "plt.imshow(img_A, cmap='gray')\n",
        "plt.show()"
      ],
      "metadata": {
        "colab": {
          "base_uri": "https://localhost:8080/",
          "height": 132
        },
        "id": "4x_ymc3uPPoM",
        "outputId": "e3ab1173-c6f3-4251-933d-a48b3461cd52"
      },
      "execution_count": 35,
      "outputs": [
        {
          "output_type": "display_data",
          "data": {
            "text/plain": [
              "<Figure size 179.2x134.4 with 1 Axes>"
            ],
            "image/png": "[encoded data removed]"
          },
          "metadata": {}
        }
      ]
    },
    {
      "cell_type": "code",
      "source": [
        "plt.figure(dpi=28)\n",
        "plt.imshow(img_B, cmap='gray')\n",
        "plt.show()"
      ],
      "metadata": {
        "colab": {
          "base_uri": "https://localhost:8080/",
          "height": 132
        },
        "id": "AL63U_tFPXqJ",
        "outputId": "2e7f30b9-39f2-47f9-fef5-49dd862a1eff"
      },
      "execution_count": 36,
      "outputs": [
        {
          "output_type": "display_data",
          "data": {
            "text/plain": [
              "<Figure size 179.2x134.4 with 1 Axes>"
            ],
            "image/png": "[encoded data removed]"
          },
          "metadata": {}
        }
      ]
    },
    {
      "cell_type": "code",
      "source": [
        "model.predict([img_A.reshape((1, 28, 28)),\n",
        "               img_B.reshape((1, 28, 28))])\n",
        "# As you can see probability is too small (0.000000000000013)"
      ],
      "metadata": {
        "colab": {
          "base_uri": "https://localhost:8080/"
        },
        "id": "-j-usShrPYvB",
        "outputId": "94d7b79c-441c-4e0d-c85f-3e273023b604"
      },
      "execution_count": 37,
      "outputs": [
        {
          "output_type": "stream",
          "name": "stdout",
          "text": [
            "1/1 [==============================] - 0s 38ms/step\n"
          ]
        },
        {
          "output_type": "execute_result",
          "data": {
            "text/plain": [
              "array([[1.3491789e-14]], dtype=float32)"
            ]
          },
          "metadata": {},
          "execution_count": 37
        }
      ]
    }
  ]
}