{
 "cells": [
  {
   "cell_type": "code",
   "execution_count": 4,
   "id": "9602b885",
   "metadata": {},
   "outputs": [],
   "source": [
    "import numpy as np\n",
    "import matplotlib.pyplot as plt\n",
    "import tensorflow as tf\n",
    "from tensorflow.keras.models import Sequential\n",
    "from tensorflow.keras.layers import Dense\n",
    "import logging\n",
    "import seaborn as sns\n",
    "logging.getLogger(\"tensorflow\").setLevel(logging.ERROR)\n",
    "tf.autograph.set_verbosity(0)"
   ]
  },
  {
   "cell_type": "code",
   "execution_count": 2,
   "id": "358a3b1a",
   "metadata": {},
   "outputs": [],
   "source": [
    "# Coffee roast data\n",
    "x = np.array([[185.32,  12.69],\n",
    "       [259.92,  11.87],\n",
    "       [231.01,  14.41],\n",
    "       [175.37,  11.72],\n",
    "       [187.12,  14.13],\n",
    "       [225.91,  12.1 ],\n",
    "       [208.41,  14.18],\n",
    "       [207.08,  14.03],\n",
    "       [280.6 ,  14.23],\n",
    "       [202.87,  12.25],\n",
    "       [196.7 ,  13.54],\n",
    "       [270.31,  14.6 ],\n",
    "       [192.95,  15.2 ],\n",
    "       [213.57,  14.28],\n",
    "       [164.47,  11.92],\n",
    "       [177.26,  15.04],\n",
    "       [241.77,  14.9 ],\n",
    "       [237.  ,  13.13],\n",
    "       [219.74,  13.87],\n",
    "       [266.39,  13.25],\n",
    "       [270.45,  13.95],\n",
    "       [261.96,  13.49],\n",
    "       [243.49,  12.86],\n",
    "       [220.58,  12.36],\n",
    "       [163.59,  11.65],\n",
    "       [244.76,  13.33],\n",
    "       [271.19,  14.84],\n",
    "       [201.99,  15.39],\n",
    "       [229.93,  14.56],\n",
    "       [204.97,  12.28],\n",
    "       [173.19,  12.22],\n",
    "       [231.51,  11.95],\n",
    "       [152.69,  14.83],\n",
    "       [163.42,  13.3 ],\n",
    "       [215.95,  13.98],\n",
    "       [218.04,  15.25],\n",
    "       [251.3 ,  13.8 ],\n",
    "       [233.33,  13.53],\n",
    "       [280.24,  12.41],\n",
    "       [243.02,  13.72],\n",
    "       [155.67,  12.68],\n",
    "       [275.17,  14.64],\n",
    "       [151.73,  12.69],\n",
    "       [151.32,  14.81],\n",
    "       [164.9 ,  11.73],\n",
    "       [282.55,  13.28],\n",
    "       [192.98,  11.7 ],\n",
    "       [202.6 ,  12.96],\n",
    "       [220.67,  11.53],\n",
    "       [169.97,  12.34],\n",
    "       [209.47,  12.71],\n",
    "       [232.8 ,  12.64],\n",
    "       [272.8 ,  15.35],\n",
    "       [158.02,  12.34],\n",
    "       [226.01,  14.58],\n",
    "       [158.64,  12.24],\n",
    "       [211.66,  14.17],\n",
    "       [271.95,  14.97],\n",
    "       [257.16,  11.71],\n",
    "       [281.85,  13.96],\n",
    "       [161.63,  12.52],\n",
    "       [233.8 ,  13.04],\n",
    "       [210.29,  14.72],\n",
    "       [261.24,  13.69],\n",
    "       [256.98,  13.12],\n",
    "       [281.56,  13.92],\n",
    "       [280.64,  11.68],\n",
    "       [269.16,  13.74],\n",
    "       [246.34,  12.27],\n",
    "       [224.07,  12.66],\n",
    "       [164.24,  11.51],\n",
    "       [272.42,  14.18],\n",
    "       [177.68,  12.53],\n",
    "       [212.86,  14.77],\n",
    "       [165.88,  15.37],\n",
    "       [277.43,  12.48],\n",
    "       [236.51,  12.94],\n",
    "       [244.14,  11.85],\n",
    "       [213.45,  13.85],\n",
    "       [234.57,  14.27],\n",
    "       [270.34,  12.47],\n",
    "       [170.68,  13.06],\n",
    "       [226.79,  15.34],\n",
    "       [245.92,  14.45],\n",
    "       [281.32,  12.57],\n",
    "       [185.03,  13.19],\n",
    "       [189.88,  14.1 ],\n",
    "       [278.48,  12.11],\n",
    "       [219.92,  14.21],\n",
    "       [216.58,  15.15],\n",
    "       [249.48,  15.03],\n",
    "       [165.09,  12.28],\n",
    "       [158.87,  14.82],\n",
    "       [279.98,  11.56],\n",
    "       [256.55,  14.41],\n",
    "       [272.61,  12.58],\n",
    "       [246.49,  12.45],\n",
    "       [160.26,  14.48],\n",
    "       [155.7 ,  14.3 ],\n",
    "       [188.27,  13.45],\n",
    "       [270.36,  12.47],\n",
    "       [213.22,  12.92],\n",
    "       [175.7 ,  13.39],\n",
    "       [174.52,  14.7 ],\n",
    "       [233.  ,  12.63],\n",
    "       [281.37,  12.88],\n",
    "       [240.62,  14.43],\n",
    "       [185.81,  11.55],\n",
    "       [270.5 ,  15.33],\n",
    "       [172.98,  12.11],\n",
    "       [208.41,  13.89],\n",
    "       [283.51,  15.35],\n",
    "       [283.36,  12.48],\n",
    "       [230.85,  13.24],\n",
    "       [181.24,  11.76],\n",
    "       [172.78,  12.93],\n",
    "       [161.88,  12.1 ],\n",
    "       [156.03,  13.99],\n",
    "       [216.52,  12.47],\n",
    "       [221.06,  13.2 ],\n",
    "       [238.99,  15.23],\n",
    "       [197.69,  14.08],\n",
    "       [179.55,  15.26],\n",
    "       [233.39,  12.13],\n",
    "       [184.7 ,  12.14],\n",
    "       [174.18,  12.73],\n",
    "       [261.11,  13.33],\n",
    "       [187.42,  13.18],\n",
    "       [186.1 ,  14.43],\n",
    "       [157.94,  12.66],\n",
    "       [193.64,  12.23],\n",
    "       [249.65,  12.22],\n",
    "       [190.56,  11.73],\n",
    "       [252.  ,  12.96],\n",
    "       [238.55,  12.37],\n",
    "       [152.94,  12.79],\n",
    "       [255.17,  14.85],\n",
    "       [197.09,  14.89],\n",
    "       [156.8 ,  13.59],\n",
    "       [184.75,  13.26],\n",
    "       [179.92,  15.07],\n",
    "       [190.79,  15.28],\n",
    "       [164.73,  13.22],\n",
    "       [209.87,  14.34],\n",
    "       [196.58,  13.47],\n",
    "       [159.51,  12.74],\n",
    "       [247.87,  11.92],\n",
    "       [212.44,  12.45],\n",
    "       [172.34,  11.99],\n",
    "       [259.87,  14.25],\n",
    "       [201.23,  13.07],\n",
    "       [248.34,  13.92],\n",
    "       [273.66,  15.18],\n",
    "       [215.09,  14.14],\n",
    "       [223.53,  12.74],\n",
    "       [211.22,  14.38],\n",
    "       [224.61,  14.03],\n",
    "       [215.75,  15.31],\n",
    "       [254.82,  12.02],\n",
    "       [259.9 ,  15.17],\n",
    "       [260.25,  12.87],\n",
    "       [199.67,  12.47],\n",
    "       [157.52,  13.39],\n",
    "       [264.81,  14.58],\n",
    "       [239.4 ,  14.89],\n",
    "       [238.98,  12.39],\n",
    "       [258.43,  12.97],\n",
    "       [270.16,  12.81],\n",
    "       [162.41,  14.42],\n",
    "       [164.53,  14.98],\n",
    "       [205.61,  14.62],\n",
    "       [157.1 ,  13.68],\n",
    "       [241.38,  12.02],\n",
    "       [232.13,  12.07],\n",
    "       [191.04,  12.96],\n",
    "       [233.64,  12.02],\n",
    "       [174.95,  14.63],\n",
    "       [246.64,  13.32],\n",
    "       [188.07,  14.27],\n",
    "       [213.16,  12.75],\n",
    "       [268.08,  12.31],\n",
    "       [258.58,  13.97],\n",
    "       [237.21,  14.23],\n",
    "       [251.02,  15.02],\n",
    "       [274.28,  12.52],\n",
    "       [172.12,  15.09],\n",
    "       [177.52,  12.39],\n",
    "       [258.71,  15.36],\n",
    "       [264.01,  13.57],\n",
    "       [200.71,  15.45],\n",
    "       [249.37,  14.02],\n",
    "       [151.5 ,  12.28],\n",
    "       [151.82,  15.13],\n",
    "       [181.92,  12.18],\n",
    "       [228.65,  12.31],\n",
    "       [223.78,  15.3 ],\n",
    "       [266.63,  12.48],\n",
    "       [273.68,  13.1 ],\n",
    "       [220.61,  12.8 ],\n",
    "       [284.99,  12.73]])\n",
    "y = np.array([[1.],\n",
    "       [0.],\n",
    "       [0.],\n",
    "       [0.],\n",
    "       [1.],\n",
    "       [1.],\n",
    "       [0.],\n",
    "       [0.],\n",
    "       [0.],\n",
    "       [1.],\n",
    "       [1.],\n",
    "       [0.],\n",
    "       [0.],\n",
    "       [0.],\n",
    "       [0.],\n",
    "       [0.],\n",
    "       [0.],\n",
    "       [0.],\n",
    "       [0.],\n",
    "       [0.],\n",
    "       [0.],\n",
    "       [0.],\n",
    "       [0.],\n",
    "       [1.],\n",
    "       [0.],\n",
    "       [0.],\n",
    "       [0.],\n",
    "       [0.],\n",
    "       [0.],\n",
    "       [1.],\n",
    "       [0.],\n",
    "       [0.],\n",
    "       [0.],\n",
    "       [0.],\n",
    "       [0.],\n",
    "       [0.],\n",
    "       [0.],\n",
    "       [0.],\n",
    "       [0.],\n",
    "       [0.],\n",
    "       [0.],\n",
    "       [0.],\n",
    "       [0.],\n",
    "       [0.],\n",
    "       [0.],\n",
    "       [0.],\n",
    "       [0.],\n",
    "       [1.],\n",
    "       [0.],\n",
    "       [0.],\n",
    "       [1.],\n",
    "       [1.],\n",
    "       [0.],\n",
    "       [0.],\n",
    "       [0.],\n",
    "       [0.],\n",
    "       [0.],\n",
    "       [0.],\n",
    "       [0.],\n",
    "       [0.],\n",
    "       [0.],\n",
    "       [0.],\n",
    "       [0.],\n",
    "       [0.],\n",
    "       [0.],\n",
    "       [0.],\n",
    "       [0.],\n",
    "       [0.],\n",
    "       [1.],\n",
    "       [1.],\n",
    "       [0.],\n",
    "       [0.],\n",
    "       [1.],\n",
    "       [0.],\n",
    "       [0.],\n",
    "       [0.],\n",
    "       [0.],\n",
    "       [0.],\n",
    "       [0.],\n",
    "       [0.],\n",
    "       [0.],\n",
    "       [0.],\n",
    "       [0.],\n",
    "       [0.],\n",
    "       [0.],\n",
    "       [1.],\n",
    "       [1.],\n",
    "       [0.],\n",
    "       [0.],\n",
    "       [0.],\n",
    "       [0.],\n",
    "       [0.],\n",
    "       [0.],\n",
    "       [0.],\n",
    "       [0.],\n",
    "       [0.],\n",
    "       [0.],\n",
    "       [0.],\n",
    "       [0.],\n",
    "       [1.],\n",
    "       [0.],\n",
    "       [1.],\n",
    "       [1.],\n",
    "       [0.],\n",
    "       [1.],\n",
    "       [0.],\n",
    "       [0.],\n",
    "       [0.],\n",
    "       [0.],\n",
    "       [0.],\n",
    "       [0.],\n",
    "       [0.],\n",
    "       [0.],\n",
    "       [0.],\n",
    "       [0.],\n",
    "       [0.],\n",
    "       [0.],\n",
    "       [0.],\n",
    "       [1.],\n",
    "       [1.],\n",
    "       [0.],\n",
    "       [0.],\n",
    "       [0.],\n",
    "       [1.],\n",
    "       [1.],\n",
    "       [0.],\n",
    "       [0.],\n",
    "       [1.],\n",
    "       [0.],\n",
    "       [0.],\n",
    "       [1.],\n",
    "       [0.],\n",
    "       [0.],\n",
    "       [0.],\n",
    "       [1.],\n",
    "       [0.],\n",
    "       [0.],\n",
    "       [0.],\n",
    "       [0.],\n",
    "       [1.],\n",
    "       [0.],\n",
    "       [0.],\n",
    "       [0.],\n",
    "       [0.],\n",
    "       [1.],\n",
    "       [0.],\n",
    "       [0.],\n",
    "       [1.],\n",
    "       [0.],\n",
    "       [0.],\n",
    "       [1.],\n",
    "       [0.],\n",
    "       [0.],\n",
    "       [0.],\n",
    "       [1.],\n",
    "       [0.],\n",
    "       [0.],\n",
    "       [0.],\n",
    "       [0.],\n",
    "       [0.],\n",
    "       [0.],\n",
    "       [1.],\n",
    "       [0.],\n",
    "       [0.],\n",
    "       [0.],\n",
    "       [1.],\n",
    "       [0.],\n",
    "       [0.],\n",
    "       [0.],\n",
    "       [0.],\n",
    "       [0.],\n",
    "       [0.],\n",
    "       [1.],\n",
    "       [1.],\n",
    "       [1.],\n",
    "       [1.],\n",
    "       [0.],\n",
    "       [0.],\n",
    "       [1.],\n",
    "       [1.],\n",
    "       [0.],\n",
    "       [0.],\n",
    "       [0.],\n",
    "       [0.],\n",
    "       [0.],\n",
    "       [0.],\n",
    "       [1.],\n",
    "       [0.],\n",
    "       [0.],\n",
    "       [0.],\n",
    "       [0.],\n",
    "       [0.],\n",
    "       [0.],\n",
    "       [1.],\n",
    "       [1.],\n",
    "       [0.],\n",
    "       [0.],\n",
    "       [0.],\n",
    "       [1.],\n",
    "       [0.]])"
   ]
  },
  {
   "cell_type": "code",
   "execution_count": 3,
   "id": "525c11e7",
   "metadata": {},
   "outputs": [
    {
     "name": "stdout",
     "output_type": "stream",
     "text": [
      "(200, 2) (200, 1)\n"
     ]
    }
   ],
   "source": [
    "print(x.shape, y.shape)"
   ]
  },
  {
   "cell_type": "code",
   "execution_count": 29,
   "id": "698fad61",
   "metadata": {},
   "outputs": [
    {
     "data": {
      "text/plain": [
       "<matplotlib.legend.Legend at 0x254987071d0>"
      ]
     },
     "execution_count": 29,
     "metadata": {},
     "output_type": "execute_result"
    },
    {
     "data": {
      "image/png": "[encoded data removed]",
      "text/plain": [
       "<Figure size 640x480 with 1 Axes>"
      ]
     },
     "metadata": {},
     "output_type": "display_data"
    }
   ],
   "source": [
    "sns.scatterplot(x=x[:,0], y=x[:,1], hue=y[:,0])\n",
    "plt.xlabel(\"Temperature\")\n",
    "plt.ylabel(\"Duration\")\n",
    "plt.legend(loc=1)"
   ]
  },
  {
   "cell_type": "code",
   "execution_count": 31,
   "id": "cc0a43db",
   "metadata": {},
   "outputs": [
    {
     "name": "stdout",
     "output_type": "stream",
     "text": [
      "Temperature Max, Min pre normalization: 284.99, 151.32\n",
      "Duration    Max, Min pre normalization: 15.45, 11.51\n",
      "Temperature Max, Min post normalization: 1.66, -1.69\n",
      "Duration    Max, Min post normalization: 1.79, -1.70\n"
     ]
    }
   ],
   "source": [
    "print(f\"Temperature Max, Min pre normalization: {np.max(x[:,0]):0.2f}, {np.min(x[:,0]):0.2f}\")\n",
    "print(f\"Duration    Max, Min pre normalization: {np.max(x[:,1]):0.2f}, {np.min(x[:,1]):0.2f}\")\n",
    "norm_l = tf.keras.layers.Normalization(axis=-1)\n",
    "norm_l.adapt(x)  # learns mean, variance\n",
    "Xn = norm_l(x)\n",
    "print(f\"Temperature Max, Min post normalization: {np.max(Xn[:,0]):0.2f}, {np.min(Xn[:,0]):0.2f}\")\n",
    "print(f\"Duration    Max, Min post normalization: {np.max(Xn[:,1]):0.2f}, {np.min(Xn[:,1]):0.2f}\")"
   ]
  },
  {
   "cell_type": "code",
   "execution_count": 33,
   "id": "0d6fca92",
   "metadata": {},
   "outputs": [
    {
     "name": "stdout",
     "output_type": "stream",
     "text": [
      "(200000, 2) (200000, 1)\n"
     ]
    }
   ],
   "source": [
    "Xt = np.tile(Xn,(1000,1))\n",
    "Yt= np.tile(y,(1000,1))   \n",
    "print(Xt.shape, Yt.shape) "
   ]
  },
  {
   "cell_type": "code",
   "execution_count": 35,
   "id": "cb239c96",
   "metadata": {},
   "outputs": [],
   "source": [
    "# Tensorflow model"
   ]
  },
  {
   "cell_type": "code",
   "execution_count": 38,
   "id": "a0eec2bd",
   "metadata": {},
   "outputs": [],
   "source": [
    "tf.random.set_seed(1234)\n",
    "model = Sequential([\n",
    "    tf.keras.Input(shape=(2,)),\n",
    "    Dense(3, activation='sigmoid', name='layer1'),\n",
    "    Dense(1, activation='sigmoid', name='layer2')\n",
    "])"
   ]
  },
  {
   "cell_type": "code",
   "execution_count": 39,
   "id": "f0f593c9",
   "metadata": {},
   "outputs": [
    {
     "name": "stdout",
     "output_type": "stream",
     "text": [
      "Model: \"sequential_1\"\n",
      "_________________________________________________________________\n",
      " Layer (type)                Output Shape              Param #   \n",
      "=================================================================\n",
      " layer1 (Dense)              (None, 3)                 9         \n",
      "                                                                 \n",
      " layer2 (Dense)              (None, 1)                 4         \n",
      "                                                                 \n",
      "=================================================================\n",
      "Total params: 13 (52.00 Byte)\n",
      "Trainable params: 13 (52.00 Byte)\n",
      "Non-trainable params: 0 (0.00 Byte)\n",
      "_________________________________________________________________\n"
     ]
    }
   ],
   "source": [
    "model.summary()"
   ]
  },
  {
   "cell_type": "code",
   "execution_count": 40,
   "id": "6d1c0bab",
   "metadata": {},
   "outputs": [
    {
     "name": "stdout",
     "output_type": "stream",
     "text": [
      "L1 params =  9 , L2 params =  4\n"
     ]
    }
   ],
   "source": [
    "L1_num_params = 2 * 3 + 3   # W1 parameters  + b1 parameters\n",
    "L2_num_params = 3 * 1 + 1   # W2 parameters  + b2 parameters\n",
    "print(\"L1 params = \", L1_num_params, \", L2 params = \", L2_num_params  )"
   ]
  },
  {
   "cell_type": "code",
   "execution_count": 42,
   "id": "b7635e00",
   "metadata": {},
   "outputs": [
    {
     "name": "stdout",
     "output_type": "stream",
     "text": [
      "W1(2, 3):\n",
      " [[ 0.3396417  -0.35001063 -0.50814104]\n",
      " [ 0.7146162   0.97153974  0.06463003]] \n",
      "b1(3,): [0. 0. 0.]\n",
      "W2(3, 1):\n",
      " [[-0.48710567]\n",
      " [-0.246871  ]\n",
      " [ 0.74678206]] \n",
      "b2(1,): [0.]\n"
     ]
    }
   ],
   "source": [
    "w1, b1 = model.get_layer('layer1').get_weights()\n",
    "w2, b2 = model.get_layer('layer2').get_weights()\n",
    "print(f\"W1{w1.shape}:\\n\", w1, f\"\\nb1{b1.shape}:\", b1)\n",
    "print(f\"W2{w2.shape}:\\n\", w2, f\"\\nb2{b2.shape}:\", b2)"
   ]
  },
  {
   "cell_type": "code",
   "execution_count": 43,
   "id": "24360f3f",
   "metadata": {},
   "outputs": [
    {
     "name": "stdout",
     "output_type": "stream",
     "text": [
      "Epoch 1/10\n",
      "6250/6250 [==============================] - 10s 2ms/step - loss: 0.2182\n",
      "Epoch 2/10\n",
      "6250/6250 [==============================] - 10s 2ms/step - loss: 0.1319\n",
      "Epoch 3/10\n",
      "6250/6250 [==============================] - 10s 2ms/step - loss: 0.1207\n",
      "Epoch 4/10\n",
      "6250/6250 [==============================] - 9s 2ms/step - loss: 0.1070\n",
      "Epoch 5/10\n",
      "6250/6250 [==============================] - 10s 2ms/step - loss: 0.0255\n",
      "Epoch 6/10\n",
      "6250/6250 [==============================] - 10s 2ms/step - loss: 0.0141\n",
      "Epoch 7/10\n",
      "6250/6250 [==============================] - 9s 2ms/step - loss: 0.0097\n",
      "Epoch 8/10\n",
      "6250/6250 [==============================] - 10s 2ms/step - loss: 0.0070\n",
      "Epoch 9/10\n",
      "6250/6250 [==============================] - 10s 2ms/step - loss: 0.0052\n",
      "Epoch 10/10\n",
      "6250/6250 [==============================] - 10s 2ms/step - loss: 0.0039\n"
     ]
    },
    {
     "data": {
      "text/plain": [
       "<keras.src.callbacks.History at 0x25499aefdd0>"
      ]
     },
     "execution_count": 43,
     "metadata": {},
     "output_type": "execute_result"
    }
   ],
   "source": [
    "model.compile(\n",
    "    loss = tf.keras.losses.BinaryCrossentropy(),\n",
    "    optimizer = tf.keras.optimizers.Adam(learning_rate=0.01),\n",
    ")\n",
    "\n",
    "model.fit(\n",
    "    Xt,Yt,            \n",
    "    epochs=10,\n",
    ")"
   ]
  },
  {
   "cell_type": "code",
   "execution_count": 45,
   "id": "8e3105dd",
   "metadata": {},
   "outputs": [
    {
     "name": "stdout",
     "output_type": "stream",
     "text": [
      "W1:\n",
      " [[ 0.08165872 14.101828   12.444341  ]\n",
      " [-8.558273   11.746361    0.31700927]] \n",
      "b1: [-10.767904    1.6105624  12.966581 ]\n",
      "W2:\n",
      " [[-39.482006]\n",
      " [-39.764305]\n",
      " [ 33.96423 ]] \n",
      "b2: [-11.019577]\n"
     ]
    }
   ],
   "source": [
    "W1, b1 = model.get_layer(\"layer1\").get_weights()\n",
    "W2, b2 = model.get_layer(\"layer2\").get_weights()\n",
    "print(\"W1:\\n\", W1, \"\\nb1:\", b1)\n",
    "print(\"W2:\\n\", W2, \"\\nb2:\", b2)"
   ]
  },
  {
   "cell_type": "code",
   "execution_count": 46,
   "id": "38f71a03",
   "metadata": {},
   "outputs": [],
   "source": [
    "W1 = np.array([\n",
    "    [-8.94,  0.29, 12.89],\n",
    "    [-0.17, -7.34, 10.79]] )\n",
    "b1 = np.array([-9.87, -9.28,  1.01])\n",
    "W2 = np.array([\n",
    "    [-31.38],\n",
    "    [-27.86],\n",
    "    [-32.79]])\n",
    "b2 = np.array([15.54])\n",
    "\n",
    "# Replace the weights from your trained model with\n",
    "# the values above.\n",
    "model.get_layer(\"layer1\").set_weights([W1,b1])\n",
    "model.get_layer(\"layer2\").set_weights([W2,b2])"
   ]
  },
  {
   "cell_type": "code",
   "execution_count": 47,
   "id": "918ef254",
   "metadata": {},
   "outputs": [
    {
     "name": "stdout",
     "output_type": "stream",
     "text": [
      "W1:\n",
      " [[-8.94  0.29 12.89]\n",
      " [-0.17 -7.34 10.79]] \n",
      "b1: [-9.87 -9.28  1.01]\n",
      "W2:\n",
      " [[-31.38]\n",
      " [-27.86]\n",
      " [-32.79]] \n",
      "b2: [15.54]\n"
     ]
    }
   ],
   "source": [
    "# Check if the weights are successfully replaced\n",
    "W1, b1 = model.get_layer(\"layer1\").get_weights()\n",
    "W2, b2 = model.get_layer(\"layer2\").get_weights()\n",
    "print(\"W1:\\n\", W1, \"\\nb1:\", b1)\n",
    "print(\"W2:\\n\", W2, \"\\nb2:\", b2)"
   ]
  },
  {
   "cell_type": "code",
   "execution_count": 50,
   "id": "5e290db1",
   "metadata": {},
   "outputs": [
    {
     "name": "stdout",
     "output_type": "stream",
     "text": [
      "1/1 [==============================] - 0s 21ms/step\n",
      "Prediction = \n",
      " [[9.620412e-01]\n",
      " [3.031629e-08]]\n"
     ]
    }
   ],
   "source": [
    "# Predcition\n",
    "x_test = np.array([\n",
    "    [200,13.9], # pos ex\n",
    "    [200,17] # neg ex\n",
    "])\n",
    "x_testn = norm_l(x_test)\n",
    "prediction = model.predict(x_testn)\n",
    "print(\"Prediction = \\n\", prediction)"
   ]
  },
  {
   "cell_type": "code",
   "execution_count": 52,
   "id": "e86bb950",
   "metadata": {},
   "outputs": [
    {
     "name": "stdout",
     "output_type": "stream",
     "text": [
      "decisions = \n",
      "[[1.]\n",
      " [0.]]\n"
     ]
    }
   ],
   "source": [
    "yhat = np.zeros_like(prediction)\n",
    "for i in range(len(prediction)):\n",
    "    if prediction[i] >= 0.5:\n",
    "        yhat[i] = 1\n",
    "    else:\n",
    "        yhat[i] = 0\n",
    "print(f\"decisions = \\n{yhat}\")"
   ]
  },
  {
   "cell_type": "code",
   "execution_count": 54,
   "id": "47107823",
   "metadata": {},
   "outputs": [
    {
     "name": "stdout",
     "output_type": "stream",
     "text": [
      "decisions = \n",
      "[[1]\n",
      " [0]]\n"
     ]
    }
   ],
   "source": [
    "yhat = (prediction >= 0.5).astype(int)\n",
    "print(f\"decisions = \\n{yhat}\")"
   ]
  }
 ],
 "metadata": {
  "kernelspec": {
   "display_name": "Python 3 (ipykernel)",
   "language": "python",
   "name": "python3"
  },
  "language_info": {
   "codemirror_mode": {
    "name": "ipython",
    "version": 3
   },
   "file_extension": ".py",
   "mimetype": "text/x-python",
   "name": "python",
   "nbconvert_exporter": "python",
   "pygments_lexer": "ipython3",
   "version": "3.11.5"
  }
 },
 "nbformat": 4,
 "nbformat_minor": 5
}
